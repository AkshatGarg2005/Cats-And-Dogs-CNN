{
 "cells": [
  {
   "cell_type": "code",
   "execution_count": 1,
   "id": "cda6cd70-e678-4d14-a9bd-c3cc0b832b1f",
   "metadata": {},
   "outputs": [
    {
     "name": "stdout",
     "output_type": "stream",
     "text": [
      "TF 2.16.2 | logical devices ➜ [LogicalDevice(name='/device:CPU:0', device_type='CPU')]\n"
     ]
    }
   ],
   "source": [
    "import tensorflow as tf, matplotlib\n",
    "print(\"TF\", tf.__version__, \"| logical devices ➜\", tf.config.list_logical_devices())\n",
    "# Expect only CPU devices listed"
   ]
  },
  {
   "cell_type": "code",
   "execution_count": 2,
   "id": "14f01bc9-8dad-4bb3-b9a9-578475b59817",
   "metadata": {},
   "outputs": [
    {
     "name": "stdout",
     "output_type": "stream",
     "text": [
      "Cats: 500 | Dogs: 500\n"
     ]
    }
   ],
   "source": [
    "import pathlib, shutil\n",
    "\n",
    "RAW_DIR  = pathlib.Path(\"kaggle\")          # folder you downloaded / unzipped\n",
    "WORK_DIR = pathlib.Path(\"data/images\")     # Keras-friendly layout\n",
    "\n",
    "for cls in (\"cats\", \"dogs\"):\n",
    "    (WORK_DIR/cls).mkdir(parents=True, exist_ok=True)\n",
    "\n",
    "for img in RAW_DIR.rglob(\"*.jpg\"):\n",
    "    low = img.name.lower()\n",
    "    if low.startswith(\"cat\") or \"cat.\" in low:\n",
    "        shutil.copy2(img, WORK_DIR/\"cats\"/img.name)\n",
    "    elif low.startswith(\"dog\") or \"dog.\" in low:\n",
    "        shutil.copy2(img, WORK_DIR/\"dogs\"/img.name)\n",
    "\n",
    "print(\"Cats:\", len(list((WORK_DIR/'cats').iterdir())),\n",
    "      \"| Dogs:\", len(list((WORK_DIR/'dogs').iterdir())))"
   ]
  },
  {
   "cell_type": "code",
   "execution_count": 3,
   "id": "c068813e-1f09-41db-944f-b4e46afb1662",
   "metadata": {},
   "outputs": [
    {
     "name": "stdout",
     "output_type": "stream",
     "text": [
      "Found 1000 files belonging to 2 classes.\n",
      "Using 800 files for training.\n",
      "Found 1000 files belonging to 2 classes.\n",
      "Using 200 files for validation.\n",
      "Classes ➜ ['cats', 'dogs']\n"
     ]
    }
   ],
   "source": [
    "IMG_FOLDER = \"data/images\"\n",
    "IMG_SIZE   = (128, 128)   # keep RAM usage low\n",
    "BATCH      = 8\n",
    "SEED       = 123\n",
    "\n",
    "train_raw = tf.keras.preprocessing.image_dataset_from_directory(\n",
    "    IMG_FOLDER, validation_split=0.2, subset=\"training\",\n",
    "    seed=SEED, image_size=IMG_SIZE, batch_size=BATCH)\n",
    "\n",
    "val_raw = tf.keras.preprocessing.image_dataset_from_directory(\n",
    "    IMG_FOLDER, validation_split=0.2, subset=\"validation\",\n",
    "    seed=SEED, image_size=IMG_SIZE, batch_size=BATCH)\n",
    "\n",
    "class_names = train_raw.class_names\n",
    "print(\"Classes ➜\", class_names)\n",
    "\n",
    "train_ds, val_ds = train_raw, val_raw    # no prefetch on CPU\n"
   ]
  },
  {
   "cell_type": "code",
   "execution_count": 4,
   "id": "a4d671a9-5245-46f5-a618-6ac0e5b2d35c",
   "metadata": {},
   "outputs": [
    {
     "name": "stderr",
     "output_type": "stream",
     "text": [
      "/opt/anaconda3/envs/cnn_cpu_env/lib/python3.10/site-packages/keras/src/layers/preprocessing/tf_data_layer.py:19: UserWarning: Do not pass an `input_shape`/`input_dim` argument to a layer. When using Sequential models, prefer using an `Input(shape)` object as the first layer in the model instead.\n",
      "  super().__init__(**kwargs)\n"
     ]
    },
    {
     "data": {
      "text/html": [
       "<pre style=\"white-space:pre;overflow-x:auto;line-height:normal;font-family:Menlo,'DejaVu Sans Mono',consolas,'Courier New',monospace\"><span style=\"font-weight: bold\">Model: \"sequential\"</span>\n",
       "</pre>\n"
      ],
      "text/plain": [
       "\u001b[1mModel: \"sequential\"\u001b[0m\n"
      ]
     },
     "metadata": {},
     "output_type": "display_data"
    },
    {
     "data": {
      "text/html": [
       "<pre style=\"white-space:pre;overflow-x:auto;line-height:normal;font-family:Menlo,'DejaVu Sans Mono',consolas,'Courier New',monospace\">┏━━━━━━━━━━━━━━━━━━━━━━━━━━━━━━━━━┳━━━━━━━━━━━━━━━━━━━━━━━━┳━━━━━━━━━━━━━━━┓\n",
       "┃<span style=\"font-weight: bold\"> Layer (type)                    </span>┃<span style=\"font-weight: bold\"> Output Shape           </span>┃<span style=\"font-weight: bold\">       Param # </span>┃\n",
       "┡━━━━━━━━━━━━━━━━━━━━━━━━━━━━━━━━━╇━━━━━━━━━━━━━━━━━━━━━━━━╇━━━━━━━━━━━━━━━┩\n",
       "│ augment (<span style=\"color: #0087ff; text-decoration-color: #0087ff\">Sequential</span>)            │ ?                      │   <span style=\"color: #00af00; text-decoration-color: #00af00\">0</span> (unbuilt) │\n",
       "├─────────────────────────────────┼────────────────────────┼───────────────┤\n",
       "│ rescaling (<span style=\"color: #0087ff; text-decoration-color: #0087ff\">Rescaling</span>)           │ ?                      │   <span style=\"color: #00af00; text-decoration-color: #00af00\">0</span> (unbuilt) │\n",
       "├─────────────────────────────────┼────────────────────────┼───────────────┤\n",
       "│ conv2d (<span style=\"color: #0087ff; text-decoration-color: #0087ff\">Conv2D</span>)                 │ ?                      │   <span style=\"color: #00af00; text-decoration-color: #00af00\">0</span> (unbuilt) │\n",
       "├─────────────────────────────────┼────────────────────────┼───────────────┤\n",
       "│ max_pooling2d (<span style=\"color: #0087ff; text-decoration-color: #0087ff\">MaxPooling2D</span>)    │ ?                      │             <span style=\"color: #00af00; text-decoration-color: #00af00\">0</span> │\n",
       "├─────────────────────────────────┼────────────────────────┼───────────────┤\n",
       "│ conv2d_1 (<span style=\"color: #0087ff; text-decoration-color: #0087ff\">Conv2D</span>)               │ ?                      │   <span style=\"color: #00af00; text-decoration-color: #00af00\">0</span> (unbuilt) │\n",
       "├─────────────────────────────────┼────────────────────────┼───────────────┤\n",
       "│ max_pooling2d_1 (<span style=\"color: #0087ff; text-decoration-color: #0087ff\">MaxPooling2D</span>)  │ ?                      │             <span style=\"color: #00af00; text-decoration-color: #00af00\">0</span> │\n",
       "├─────────────────────────────────┼────────────────────────┼───────────────┤\n",
       "│ conv2d_2 (<span style=\"color: #0087ff; text-decoration-color: #0087ff\">Conv2D</span>)               │ ?                      │   <span style=\"color: #00af00; text-decoration-color: #00af00\">0</span> (unbuilt) │\n",
       "├─────────────────────────────────┼────────────────────────┼───────────────┤\n",
       "│ max_pooling2d_2 (<span style=\"color: #0087ff; text-decoration-color: #0087ff\">MaxPooling2D</span>)  │ ?                      │             <span style=\"color: #00af00; text-decoration-color: #00af00\">0</span> │\n",
       "├─────────────────────────────────┼────────────────────────┼───────────────┤\n",
       "│ flatten (<span style=\"color: #0087ff; text-decoration-color: #0087ff\">Flatten</span>)               │ ?                      │   <span style=\"color: #00af00; text-decoration-color: #00af00\">0</span> (unbuilt) │\n",
       "├─────────────────────────────────┼────────────────────────┼───────────────┤\n",
       "│ dense (<span style=\"color: #0087ff; text-decoration-color: #0087ff\">Dense</span>)                   │ ?                      │   <span style=\"color: #00af00; text-decoration-color: #00af00\">0</span> (unbuilt) │\n",
       "├─────────────────────────────────┼────────────────────────┼───────────────┤\n",
       "│ dense_1 (<span style=\"color: #0087ff; text-decoration-color: #0087ff\">Dense</span>)                 │ ?                      │   <span style=\"color: #00af00; text-decoration-color: #00af00\">0</span> (unbuilt) │\n",
       "└─────────────────────────────────┴────────────────────────┴───────────────┘\n",
       "</pre>\n"
      ],
      "text/plain": [
       "┏━━━━━━━━━━━━━━━━━━━━━━━━━━━━━━━━━┳━━━━━━━━━━━━━━━━━━━━━━━━┳━━━━━━━━━━━━━━━┓\n",
       "┃\u001b[1m \u001b[0m\u001b[1mLayer (type)                   \u001b[0m\u001b[1m \u001b[0m┃\u001b[1m \u001b[0m\u001b[1mOutput Shape          \u001b[0m\u001b[1m \u001b[0m┃\u001b[1m \u001b[0m\u001b[1m      Param #\u001b[0m\u001b[1m \u001b[0m┃\n",
       "┡━━━━━━━━━━━━━━━━━━━━━━━━━━━━━━━━━╇━━━━━━━━━━━━━━━━━━━━━━━━╇━━━━━━━━━━━━━━━┩\n",
       "│ augment (\u001b[38;5;33mSequential\u001b[0m)            │ ?                      │   \u001b[38;5;34m0\u001b[0m (unbuilt) │\n",
       "├─────────────────────────────────┼────────────────────────┼───────────────┤\n",
       "│ rescaling (\u001b[38;5;33mRescaling\u001b[0m)           │ ?                      │   \u001b[38;5;34m0\u001b[0m (unbuilt) │\n",
       "├─────────────────────────────────┼────────────────────────┼───────────────┤\n",
       "│ conv2d (\u001b[38;5;33mConv2D\u001b[0m)                 │ ?                      │   \u001b[38;5;34m0\u001b[0m (unbuilt) │\n",
       "├─────────────────────────────────┼────────────────────────┼───────────────┤\n",
       "│ max_pooling2d (\u001b[38;5;33mMaxPooling2D\u001b[0m)    │ ?                      │             \u001b[38;5;34m0\u001b[0m │\n",
       "├─────────────────────────────────┼────────────────────────┼───────────────┤\n",
       "│ conv2d_1 (\u001b[38;5;33mConv2D\u001b[0m)               │ ?                      │   \u001b[38;5;34m0\u001b[0m (unbuilt) │\n",
       "├─────────────────────────────────┼────────────────────────┼───────────────┤\n",
       "│ max_pooling2d_1 (\u001b[38;5;33mMaxPooling2D\u001b[0m)  │ ?                      │             \u001b[38;5;34m0\u001b[0m │\n",
       "├─────────────────────────────────┼────────────────────────┼───────────────┤\n",
       "│ conv2d_2 (\u001b[38;5;33mConv2D\u001b[0m)               │ ?                      │   \u001b[38;5;34m0\u001b[0m (unbuilt) │\n",
       "├─────────────────────────────────┼────────────────────────┼───────────────┤\n",
       "│ max_pooling2d_2 (\u001b[38;5;33mMaxPooling2D\u001b[0m)  │ ?                      │             \u001b[38;5;34m0\u001b[0m │\n",
       "├─────────────────────────────────┼────────────────────────┼───────────────┤\n",
       "│ flatten (\u001b[38;5;33mFlatten\u001b[0m)               │ ?                      │   \u001b[38;5;34m0\u001b[0m (unbuilt) │\n",
       "├─────────────────────────────────┼────────────────────────┼───────────────┤\n",
       "│ dense (\u001b[38;5;33mDense\u001b[0m)                   │ ?                      │   \u001b[38;5;34m0\u001b[0m (unbuilt) │\n",
       "├─────────────────────────────────┼────────────────────────┼───────────────┤\n",
       "│ dense_1 (\u001b[38;5;33mDense\u001b[0m)                 │ ?                      │   \u001b[38;5;34m0\u001b[0m (unbuilt) │\n",
       "└─────────────────────────────────┴────────────────────────┴───────────────┘\n"
      ]
     },
     "metadata": {},
     "output_type": "display_data"
    },
    {
     "data": {
      "text/html": [
       "<pre style=\"white-space:pre;overflow-x:auto;line-height:normal;font-family:Menlo,'DejaVu Sans Mono',consolas,'Courier New',monospace\"><span style=\"font-weight: bold\"> Total params: </span><span style=\"color: #00af00; text-decoration-color: #00af00\">0</span> (0.00 B)\n",
       "</pre>\n"
      ],
      "text/plain": [
       "\u001b[1m Total params: \u001b[0m\u001b[38;5;34m0\u001b[0m (0.00 B)\n"
      ]
     },
     "metadata": {},
     "output_type": "display_data"
    },
    {
     "data": {
      "text/html": [
       "<pre style=\"white-space:pre;overflow-x:auto;line-height:normal;font-family:Menlo,'DejaVu Sans Mono',consolas,'Courier New',monospace\"><span style=\"font-weight: bold\"> Trainable params: </span><span style=\"color: #00af00; text-decoration-color: #00af00\">0</span> (0.00 B)\n",
       "</pre>\n"
      ],
      "text/plain": [
       "\u001b[1m Trainable params: \u001b[0m\u001b[38;5;34m0\u001b[0m (0.00 B)\n"
      ]
     },
     "metadata": {},
     "output_type": "display_data"
    },
    {
     "data": {
      "text/html": [
       "<pre style=\"white-space:pre;overflow-x:auto;line-height:normal;font-family:Menlo,'DejaVu Sans Mono',consolas,'Courier New',monospace\"><span style=\"font-weight: bold\"> Non-trainable params: </span><span style=\"color: #00af00; text-decoration-color: #00af00\">0</span> (0.00 B)\n",
       "</pre>\n"
      ],
      "text/plain": [
       "\u001b[1m Non-trainable params: \u001b[0m\u001b[38;5;34m0\u001b[0m (0.00 B)\n"
      ]
     },
     "metadata": {},
     "output_type": "display_data"
    }
   ],
   "source": [
    "from tensorflow.keras import layers, models, callbacks\n",
    "\n",
    "# data-augmentation block (runs only during training)\n",
    "data_aug = models.Sequential([\n",
    "    layers.RandomFlip(\"horizontal\"),\n",
    "    layers.RandomRotation(0.1),\n",
    "    layers.RandomZoom(0.1),\n",
    "], name=\"augment\")\n",
    "\n",
    "model = models.Sequential([\n",
    "    data_aug,\n",
    "    layers.Rescaling(1./255, input_shape=IMG_SIZE + (3,)),\n",
    "    layers.Conv2D(16, 3, activation='relu'), layers.MaxPooling2D(),\n",
    "    layers.Conv2D(32, 3, activation='relu'), layers.MaxPooling2D(),\n",
    "    layers.Conv2D(64, 3, activation='relu'), layers.MaxPooling2D(),\n",
    "    layers.Flatten(),\n",
    "    layers.Dense(64, activation='relu'),\n",
    "    layers.Dense(len(class_names), activation='softmax')\n",
    "])\n",
    "\n",
    "model.compile(optimizer='adam',\n",
    "              loss='sparse_categorical_crossentropy',\n",
    "              metrics=['accuracy'])\n",
    "\n",
    "model.summary()\n"
   ]
  },
  {
   "cell_type": "code",
   "execution_count": 5,
   "id": "918d36cc-05d0-4725-b2d3-8c1778149891",
   "metadata": {},
   "outputs": [
    {
     "name": "stdout",
     "output_type": "stream",
     "text": [
      "Epoch 1/25\n",
      "100/100 - 3s - 28ms/step - accuracy: 0.5437 - loss: 0.6959 - val_accuracy: 0.4350 - val_loss: 0.7089\n",
      "Epoch 2/25\n",
      "100/100 - 2s - 22ms/step - accuracy: 0.5188 - loss: 0.6934 - val_accuracy: 0.4350 - val_loss: 0.7090\n",
      "Epoch 3/25\n",
      "100/100 - 2s - 22ms/step - accuracy: 0.5487 - loss: 0.6869 - val_accuracy: 0.5350 - val_loss: 0.6691\n",
      "Epoch 4/25\n",
      "100/100 - 2s - 22ms/step - accuracy: 0.5950 - loss: 0.6808 - val_accuracy: 0.6600 - val_loss: 0.6703\n",
      "Epoch 5/25\n",
      "100/100 - 2s - 23ms/step - accuracy: 0.5987 - loss: 0.6685 - val_accuracy: 0.5600 - val_loss: 0.6688\n",
      "Epoch 6/25\n",
      "100/100 - 2s - 24ms/step - accuracy: 0.5763 - loss: 0.6792 - val_accuracy: 0.5400 - val_loss: 0.6690\n",
      "Epoch 7/25\n",
      "100/100 - 2s - 24ms/step - accuracy: 0.6037 - loss: 0.6646 - val_accuracy: 0.5500 - val_loss: 0.6929\n",
      "Epoch 8/25\n",
      "100/100 - 3s - 31ms/step - accuracy: 0.6125 - loss: 0.6625 - val_accuracy: 0.6000 - val_loss: 0.6566\n",
      "Epoch 9/25\n",
      "100/100 - 2s - 23ms/step - accuracy: 0.6300 - loss: 0.6337 - val_accuracy: 0.5100 - val_loss: 0.8195\n",
      "Epoch 10/25\n",
      "100/100 - 2s - 23ms/step - accuracy: 0.6687 - loss: 0.6073 - val_accuracy: 0.5850 - val_loss: 0.7451\n",
      "Epoch 11/25\n",
      "100/100 - 2s - 23ms/step - accuracy: 0.6625 - loss: 0.6131 - val_accuracy: 0.6350 - val_loss: 0.6422\n",
      "Epoch 12/25\n",
      "100/100 - 2s - 23ms/step - accuracy: 0.7063 - loss: 0.5880 - val_accuracy: 0.6250 - val_loss: 0.6788\n",
      "Epoch 13/25\n",
      "100/100 - 2s - 24ms/step - accuracy: 0.6862 - loss: 0.5711 - val_accuracy: 0.5650 - val_loss: 0.7561\n",
      "Epoch 14/25\n",
      "100/100 - 2s - 23ms/step - accuracy: 0.7063 - loss: 0.5615 - val_accuracy: 0.5800 - val_loss: 0.8338\n"
     ]
    }
   ],
   "source": [
    "early = callbacks.EarlyStopping(patience=3, restore_best_weights=True)\n",
    "\n",
    "EPOCHS = 25          # will stop sooner when val-loss stops improving\n",
    "history = model.fit(\n",
    "    train_ds,\n",
    "    validation_data=val_ds,\n",
    "    epochs=EPOCHS,\n",
    "    callbacks=[early],\n",
    "    verbose=2\n",
    ")\n"
   ]
  },
  {
   "cell_type": "code",
   "execution_count": 6,
   "id": "a4ea0689-0f31-4dea-af2d-cc6a902cf7c3",
   "metadata": {},
   "outputs": [
    {
     "data": {
      "image/png": "[encoded data removed]",
      "text/plain": [
       "<Figure size 600x400 with 1 Axes>"
      ]
     },
     "metadata": {},
     "output_type": "display_data"
    },
    {
     "name": "stdout",
     "output_type": "stream",
     "text": [
      "Model saved as cnn_cats_dogs_cpu.keras ✔️\n"
     ]
    }
   ],
   "source": [
    "import matplotlib.pyplot as plt\n",
    "\n",
    "plt.figure(figsize=(6,4))\n",
    "plt.plot(history.history['loss'],     label='train')\n",
    "plt.plot(history.history['val_loss'], label='val')\n",
    "plt.xlabel('Epoch'); plt.ylabel('Loss')\n",
    "plt.title('CNN convergence (CPU, augmented)'); plt.legend(); plt.show()\n",
    "\n",
    "model.save(\"cnn_cats_dogs_cpu.keras\")   # new Keras v3 format\n",
    "print(\"Model saved as cnn_cats_dogs_cpu.keras ✔️\")"
   ]
  },
  {
   "cell_type": "code",
   "execution_count": null,
   "id": "4f763dd0-e824-465c-a5b4-c8f2cfec7c32",
   "metadata": {},
   "outputs": [],
   "source": []
  }
 ],
 "metadata": {
  "kernelspec": {
   "display_name": "Python 3 (ipykernel)",
   "language": "python",
   "name": "python3"
  },
  "language_info": {
   "codemirror_mode": {
    "name": "ipython",
    "version": 3
   },
   "file_extension": ".py",
   "mimetype": "text/x-python",
   "name": "python",
   "nbconvert_exporter": "python",
   "pygments_lexer": "ipython3",
   "version": "3.10.18"
  }
 },
 "nbformat": 4,
 "nbformat_minor": 5
}
